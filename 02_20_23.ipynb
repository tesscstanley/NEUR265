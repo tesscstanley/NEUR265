{
  "nbformat": 4,
  "nbformat_minor": 0,
  "metadata": {
    "colab": {
      "provenance": [],
      "include_colab_link": true
    },
    "kernelspec": {
      "name": "python3",
      "display_name": "Python 3"
    },
    "language_info": {
      "name": "python"
    }
  },
  "cells": [
    {
      "cell_type": "markdown",
      "metadata": {
        "id": "view-in-github",
        "colab_type": "text"
      },
      "source": [
        "<a href=\"https://colab.research.google.com/github/tesscstanley/NEUR265/blob/main/02_20_23.ipynb\" target=\"_parent\"><img src=\"https://colab.research.google.com/assets/colab-badge.svg\" alt=\"Open In Colab\"/></a>"
      ]
    },
    {
      "cell_type": "markdown",
      "source": [
        "# Programming Fundamentals III\n",
        "\n",
        "### Booleans and Conditionals\n",
        "\n",
        "In this notebook, we'll encounter another type of variable, a **Boolean**. We'll talk about the ways that we can use conditionals, and begin writing conditional statements."
      ],
      "metadata": {
        "id": "2SHTWZDDj30a"
      }
    },
    {
      "cell_type": "markdown",
      "source": [
        "## At the end of this notebook, you'll be able to:\n",
        "\n",
        "* Write Boolean logic statements\n",
        "* Recognize different types of operators (conditional, identity, and membership)\n",
        "* Test conditional statements in Python\n"
      ],
      "metadata": {
        "id": "M0E1de-8j_hR"
      }
    },
    {
      "cell_type": "markdown",
      "source": [
        "## Booleans\n",
        "\n",
        "**Boolean operators** use Boolean logic, and include:\n",
        "- `and` : True if both are true\n",
        "- `or` : True if at least one is true\n",
        "- `and not` : True only if false"
      ],
      "metadata": {
        "id": "JWsBVvg3kKF9"
      }
    },
    {
      "cell_type": "code",
      "source": [
        "# Try different Boolean operators\n",
        "\n",
        "bool_1 = True\n",
        "bool_2 = False\n",
        "bool_3 = bool_1 and bool_2\n",
        "print(bool_3)\n",
        "\n",
        "bool_19 = bool_1 or bool_2\n",
        "print(bool_19)\n",
        "\n",
        "bool_18 = bool_1 and not bool_2\n",
        "print(bool_18)\n",
        "\n"
      ],
      "metadata": {
        "id": "GZYSgJ3Vkj90",
        "outputId": "c6417aff-65e5-436d-9346-9794be963e3c",
        "colab": {
          "base_uri": "https://localhost:8080/"
        }
      },
      "execution_count": 18,
      "outputs": [
        {
          "output_type": "stream",
          "name": "stdout",
          "text": [
            "False\n",
            "True\n",
            "True\n"
          ]
        }
      ]
    },
    {
      "cell_type": "markdown",
      "source": [
        "### Conditional operators\n",
        "\n",
        "Condition operators can be used to test the relationship between two objects. These operators return Booleans.\n",
        "\n",
        "| Symbol |    Operation   | Usage | Outcome |\n",
        "|:------:|:--------------:|:-----:|:-------:|\n",
        "|    ==   |  is equal to  |`10==5*2`| True |\n",
        "|    !=   | is not equal to | `10!=5*2` | False |\n",
        "|    >  | Greater than |  `10 > 2` | True |\n",
        "|    <   |    Less than    |  `10 < 2` | False |\n",
        "| >= | Greater than _or_ equal to | `10 >= 10` | True |\n",
        "| <= | Less than _or_ equal to | `10 >= 10` | True |"
      ],
      "metadata": {
        "id": "sV75PK5mlDpj"
      }
    },
    {
      "cell_type": "markdown",
      "source": [
        "><b>Task:</b> Test each of these conditional operations, saving their output to a variable. Then, check the type of these variables. Use <code>and</code>, <code>or</code>, & <code>not</code> to see how these variables relate."
      ],
      "metadata": {
        "id": "MGMf1asRleVJ"
      }
    },
    {
      "cell_type": "code",
      "source": [
        "# Use different conditional operations\n",
        "\n",
        "a = 10 >= 9\n",
        "print(a)\n",
        "type(a)\n",
        "\n",
        "b = 10!= -6\n",
        "print(b)\n",
        "type (b)\n",
        "\n",
        "c = 11 == 5+6\n",
        "print(c)\n",
        "type(c)"
      ],
      "metadata": {
        "id": "q9flWehsmAvq",
        "outputId": "d90b4368-51ac-40ca-b601-ba587abd1692",
        "colab": {
          "base_uri": "https://localhost:8080/"
        }
      },
      "execution_count": 19,
      "outputs": [
        {
          "output_type": "stream",
          "name": "stdout",
          "text": [
            "True\n",
            "True\n",
            "True\n"
          ]
        },
        {
          "output_type": "execute_result",
          "data": {
            "text/plain": [
              "bool"
            ]
          },
          "metadata": {},
          "execution_count": 19
        }
      ]
    },
    {
      "cell_type": "markdown",
      "source": [
        "### Identity Operators\n",
        "\n",
        "Identity operators are used to check if two values (or variables) are located on the same part of the memory.\n",
        "\n",
        "- `is` : True if both refer to the same object\n",
        "- `is not` : True if they do not refer to the same object"
      ],
      "metadata": {
        "id": "DHbSHRsYsPfE"
      }
    },
    {
      "cell_type": "code",
      "source": [
        "a = 927\n",
        "b = a\n",
        "c = 927\n",
        "print(a is b)\n",
        "\n",
        "# Try to find out whether a and c are the same object. What's your prediction?\n",
        "\n",
        "print(a is c)\n",
        "# not assessing whether they are equal to the same thing, only assessing if they are the same variable"
      ],
      "metadata": {
        "id": "_Yj_NO0mschr",
        "outputId": "303ede89-1374-4957-d633-e96c64bf4247",
        "colab": {
          "base_uri": "https://localhost:8080/"
        }
      },
      "execution_count": 20,
      "outputs": [
        {
          "output_type": "stream",
          "name": "stdout",
          "text": [
            "True\n",
            "False\n"
          ]
        }
      ]
    },
    {
      "cell_type": "markdown",
      "source": [
        "><b>Task:</b> Try some code to figure out whether `a` is *equal to* `b`, and whether `a` is *equal to* `c`. What's your prediction?"
      ],
      "metadata": {
        "id": "pwguM1ias1Ck"
      }
    },
    {
      "cell_type": "code",
      "source": [
        "# Your code here\n",
        "\n",
        "print(a == c)\n",
        "print(a == b)"
      ],
      "metadata": {
        "id": "w1tDOmEZtJWZ",
        "outputId": "b5fb737c-8805-4343-db28-a2be028d5a2d",
        "colab": {
          "base_uri": "https://localhost:8080/"
        }
      },
      "execution_count": 14,
      "outputs": [
        {
          "output_type": "stream",
          "name": "stdout",
          "text": [
            "True\n",
            "True\n"
          ]
        }
      ]
    },
    {
      "cell_type": "markdown",
      "source": [
        "### Chaining Operators\n",
        "\n",
        "Operators and variables can also be chained together into arbitrarily complex expressions."
      ],
      "metadata": {
        "id": "2AIaMZoItKaE"
      }
    },
    {
      "cell_type": "code",
      "source": [
        "# Note that you can use parentheses to chunk sections\n",
        "(13 / 2 >= 6) or ('NEUR' + '265' == 'NEUR265')"
      ],
      "metadata": {
        "id": "DghB6zU2uFol",
        "outputId": "77dfeec5-2b97-4fd8-8110-8eccfcb09eb1",
        "colab": {
          "base_uri": "https://localhost:8080/"
        }
      },
      "execution_count": 21,
      "outputs": [
        {
          "output_type": "execute_result",
          "data": {
            "text/plain": [
              "True"
            ]
          },
          "metadata": {},
          "execution_count": 21
        }
      ]
    },
    {
      "cell_type": "markdown",
      "source": [
        "><b>Task:</b> Create a code cell below, and make a statement that returns `False` when the `and` operator is used, but returns `True` when the `or` operator is used."
      ],
      "metadata": {
        "id": "4AQ7r-vTuXPo"
      }
    },
    {
      "cell_type": "code",
      "source": [
        "# Your code here\n",
        "(18 / 2 >=10) and ('working ' + 'girl' == 'working girl')"
      ],
      "metadata": {
        "id": "iO-LnMsgvIOc",
        "outputId": "f73710b5-70da-472d-a898-db507d35e929",
        "colab": {
          "base_uri": "https://localhost:8080/"
        }
      },
      "execution_count": 26,
      "outputs": [
        {
          "output_type": "execute_result",
          "data": {
            "text/plain": [
              "False"
            ]
          },
          "metadata": {},
          "execution_count": 26
        }
      ]
    },
    {
      "cell_type": "markdown",
      "source": [
        "## Conditionals\n",
        "\n",
        "**Conditionals** are statements that check for a condition, using the `if` statement, and then only execute a set of code if the condition evaluates as `True`.\n",
        "\n",
        "- `if`\n",
        "- `elif` (else if): After an if, you can use elif statements to check additional conditions.\n",
        "- `else`: After an if, you can use an else that will run if the conditional(s) above have not run."
      ],
      "metadata": {
        "id": "b3F2OubqD0aH"
      }
    },
    {
      "cell_type": "markdown",
      "source": [
        "### If/elif/else syntax\n",
        "\n",
        "- Indentation matters! Your statements in the `if` block need to be indented by a tab or four spaces.\n",
        "- You need a colon after `if`, `elif`, and `else`"
      ],
      "metadata": {
        "id": "RxgB6HNaEDHb"
      }
    },
    {
      "cell_type": "code",
      "source": [
        "a = 138\n",
        "\n",
        "if a >= 140:\n",
        "  print('a is greater than or equal to 140')\n",
        "else:\n",
        "  print('a is less than or equal to 140')"
      ],
      "metadata": {
        "id": "he9ip4zrEMbL",
        "outputId": "b76b51f9-617f-4522-dbaa-e64ac1ceffe3",
        "colab": {
          "base_uri": "https://localhost:8080/"
        }
      },
      "execution_count": 27,
      "outputs": [
        {
          "output_type": "stream",
          "name": "stdout",
          "text": [
            "a is less than or equal to 140\n"
          ]
        }
      ]
    },
    {
      "cell_type": "markdown",
      "source": [
        "><b>Task:</b> Create a code cell below that does the following:\n",
        "- Defines a variable `b` that is equal to 150\n",
        "- Prints \"Way to go!\" if `b` is greater than 160\n",
        "- Prints \"Woohoo!\" if `b` is less than 160 **and** greater than 140\n",
        "- Prints \"Uh oh\" if `b` does not satisfy either of these conditions.\n",
        "\n",
        "*Hint*: Use `if`, `elif`, and `else`"
      ],
      "metadata": {
        "id": "DIRAu4bnEjni"
      }
    },
    {
      "cell_type": "code",
      "source": [
        "# Your code here\n",
        "b = 150\n",
        "if a > 160:\n",
        "  print('Way to go!')\n",
        "elif b < 160 and b > 140:\n",
        "  print('Woohoo!')\n",
        "else:\n",
        "  print('Uh oh')"
      ],
      "metadata": {
        "id": "gseyj9ldFg6f",
        "outputId": "1e8f5acb-e036-4f64-9c18-6dbecee76cd4",
        "colab": {
          "base_uri": "https://localhost:8080/"
        }
      },
      "execution_count": 35,
      "outputs": [
        {
          "output_type": "stream",
          "name": "stdout",
          "text": [
            "Woohoo!\n"
          ]
        }
      ]
    },
    {
      "cell_type": "markdown",
      "source": [
        "### Properties of Conditionals\n",
        "\n",
        "- Conditionals can take any expression that can be evaluated as `True` or `False`. \n",
        "- The order of conditional blocks is always `if` then `elif`(s) then `else`.\n",
        "- If the `elif` is at the end, it will never be tested, as the else will have already returned a value once reached (and Python will throw an error).\n",
        "- An `else` statement is not required, but if both the `if` and the `elif` condtions are not met (both evaluate as `False`), then nothing is returned.\n",
        "- **At most one component (`if` / `elif` / `else`) of a conditional will run**"
      ],
      "metadata": {
        "id": "PDxcqQP6Fmfe"
      }
    },
    {
      "cell_type": "markdown",
      "source": [
        "## Conditionals With Value Comparisons\n",
        "\n",
        "Any expression that can be evaluated as a boolean, such as value comparisons, can be used with conditionals."
      ],
      "metadata": {
        "id": "anvC1QcZGVCo"
      }
    },
    {
      "cell_type": "code",
      "source": [
        "language = \"Python\"\n",
        "\n",
        "if language == \"Python\":\n",
        "    print(\"Yay!\")\n",
        "elif language == \"MATLAB\" or language == \"R\":\n",
        "    print(\"Oh no.\")\n",
        "else:\n",
        "    print(\"Get yourself a programming language!\")"
      ],
      "metadata": {
        "id": "sPFxQf1eGadf",
        "outputId": "9541ec38-bc66-47b1-eb17-1c96e81db465",
        "colab": {
          "base_uri": "https://localhost:8080/"
        }
      },
      "execution_count": 36,
      "outputs": [
        {
          "output_type": "stream",
          "name": "stdout",
          "text": [
            "Yay!\n"
          ]
        }
      ]
    },
    {
      "cell_type": "markdown",
      "source": [
        "### Counters\n",
        "\n",
        "Sometimes it's useful to set up a <b>counter</b> so that you know how many times a piece of code has run."
      ],
      "metadata": {
        "id": "kM_Uzp95GrtX"
      }
    },
    {
      "cell_type": "code",
      "source": [
        "# Initialize a counter variable\n",
        "counter = 0 \n",
        "print(counter)\n",
        "\n",
        "counter = counter + 1\n",
        "print(counter)"
      ],
      "metadata": {
        "id": "0LXyDHnrGyeT",
        "outputId": "29530f85-cd29-49b5-bd04-624d277d506a",
        "colab": {
          "base_uri": "https://localhost:8080/"
        }
      },
      "execution_count": 37,
      "outputs": [
        {
          "output_type": "stream",
          "name": "stdout",
          "text": [
            "0\n",
            "1\n"
          ]
        }
      ]
    },
    {
      "cell_type": "markdown",
      "source": [
        "**Question**: What will be the value of `counter` after this code is run?"
      ],
      "metadata": {
        "id": "TYZgo0poHBmg"
      }
    },
    {
      "cell_type": "code",
      "source": [
        "things_that_are_good = ['python', 'data', 'science', 'tacos']\n",
        "\n",
        "counter = 0\n",
        "\n",
        "if 'python' in things_that_are_good:\n",
        "    print('python is good')\n",
        "    counter = counter + 1\n",
        "\n",
        "if len(things_that_are_good) == 4:\n",
        "    print('length is 4')\n",
        "    counter = counter + 1\n",
        "    \n",
        "if things_that_are_good[2] == 'data':\n",
        "    print('data was index 2')\n",
        "    counter = counter + 1 \n",
        "    \n",
        "print(counter)"
      ],
      "metadata": {
        "id": "rfTVDk_zHF-8",
        "outputId": "4ed1b62e-2c39-4a97-8ec0-32eee0366021",
        "colab": {
          "base_uri": "https://localhost:8080/"
        }
      },
      "execution_count": 38,
      "outputs": [
        {
          "output_type": "stream",
          "name": "stdout",
          "text": [
            "python is good\n",
            "length is 4\n",
            "2\n"
          ]
        }
      ]
    },
    {
      "cell_type": "markdown",
      "source": [
        "></b>Task: Guessing Game Challenge</b>\n",
        "- Ask the user: “What’s my favorite food?”\n",
        "- <i>If</i> it’s the same as yours, respond, “Yep, delicious!”\n",
        "- <i>If not</i>, say “Nope, you’re wrong.”\n",
        "<br>\n",
        "Regardless, tell the user “Thanks for playing.”\n",
        "</br>\n"
      ],
      "metadata": {
        "id": "0rGjPvtcHNhN"
      }
    },
    {
      "cell_type": "code",
      "source": [
        "response = input('What\\'s my favorite food?')\n",
        "fave_food = 'meatballs'\n",
        "if response == fave_food:\n",
        "  print('yep delicious')\n",
        "else:\n",
        "  print('nope, you\\'re wrong.')\n",
        "print('thanks for playing')\n"
      ],
      "metadata": {
        "id": "84JeC2BTH8rC",
        "outputId": "c0eafe81-7cdf-4e08-83df-28a5ca1bc14e",
        "colab": {
          "base_uri": "https://localhost:8080/"
        }
      },
      "execution_count": 47,
      "outputs": [
        {
          "output_type": "stream",
          "name": "stdout",
          "text": [
            "What's my favorite food?meatballs\n",
            "yep delicious\n",
            "thanks for playing\n"
          ]
        }
      ]
    },
    {
      "cell_type": "markdown",
      "source": [
        "### How Can We Apply Conditionals to our Data?\n",
        "\n",
        "Sometimes it's useful to look at data that meet certain conditions. "
      ],
      "metadata": {
        "id": "y8qXlTomI4fU"
      }
    },
    {
      "cell_type": "code",
      "source": [
        "# Upload the patch_seq.csv file located on our class GitHub repo as a Pandas DataFrame\n",
        "\n",
        "# First, import pandas as pd\n",
        "import pandas as pd\n",
        "\n",
        "# Next, import the url\n",
        "\n",
        "url = 'https://raw.githubusercontent.com/hallockh/neur_265/main/patch_seq.csv'\n",
        "\n",
        "cell_types = pd.read_csv(url)\n",
        "\n"
      ],
      "metadata": {
        "id": "AwQ5NS2kM8eh"
      },
      "execution_count": 49,
      "outputs": []
    },
    {
      "cell_type": "markdown",
      "source": [
        "Recall that this dataset consists of two different \"types\" of cells:\n",
        "- Cells that express the marker gene *Sst*\n",
        "- Cells that express the marker gene *Pvalb*\n",
        "\n",
        "Both of these marker genes are found in inhibitory neurons. *Pvalb*-containing neurons tend to be faster-spiking (have lower inter-spike intervals). For a reminder of what inter-spike interval distributions typically look like, see below:\n",
        "\n",
        "<img src = 'https://drive.google.com/uc?id=1vAoypW_RQ-BzwUgsZH8nHKPds9AoKm9X'>"
      ],
      "metadata": {
        "id": "GaxerL9ANTQx"
      }
    },
    {
      "cell_type": "markdown",
      "source": [
        "What if we *only* want to plot the histogram of inter-spike intervals for a given marker gene if the mean of the inter-spike interval distribution is *greater than* some value?"
      ],
      "metadata": {
        "id": "hrl5f-HJOIpf"
      }
    },
    {
      "cell_type": "code",
      "source": [
        "# Find the mean of the inter-spike interval distribution for Pvalb neurons\n",
        "\n",
        "means = cell_types.groupby('Marker').mean()\n",
        "pvalb_mean = means.loc['Pvalb']\n",
        "\n",
        "print(means)\n",
        "print(pvalb_mean)"
      ],
      "metadata": {
        "id": "abXUwN6VOnzO",
        "outputId": "c04dd700-0ff3-431c-cd55-e06ef8f691ea",
        "colab": {
          "base_uri": "https://localhost:8080/"
        }
      },
      "execution_count": 50,
      "outputs": [
        {
          "output_type": "stream",
          "name": "stdout",
          "text": [
            "              ISI\n",
            "Marker           \n",
            "Pvalb   18.747074\n",
            "Sst     61.767848\n",
            "ISI    18.747074\n",
            "Name: Pvalb, dtype: float64\n"
          ]
        }
      ]
    },
    {
      "cell_type": "markdown",
      "source": [
        "If the mean inter-spike interval of the *Pvalb*-containing subset of neurons is less than 20 milliseconds, make a histogram"
      ],
      "metadata": {
        "id": "qs5gIpZvR4PY"
      }
    },
    {
      "cell_type": "code",
      "source": [
        "if pvalb_mean.all() > 20:\n",
        "  pvalb_index = cell_types.index[cell_types['Marker'] == 'Pvalb']\n",
        "  pvalb_values = cell_types.loc[pvalb_index]\n",
        "  pvalb_values.hist()"
      ],
      "metadata": {
        "id": "XLn41CGOSI0x"
      },
      "execution_count": 52,
      "outputs": []
    },
    {
      "cell_type": "markdown",
      "source": [
        "><b>Task:</b> Make a conditional statement that creates a *green* histogram of ISI values for *Sst*-containing neurons if the mean of the *Sst*-containing ISI distribution is greater than 60, and a *red* histogram if the mean of the distribution is less than 60 (*Hint*: use `color = \"\"` as input to the `df.hist()` function)"
      ],
      "metadata": {
        "id": "l65E2pADcFGX"
      }
    },
    {
      "cell_type": "code",
      "source": [
        "# Your code here\n",
        "means = cell_types.groupby('Marker').mean()\n",
        "Sst_mean = means.loc['Sst']\n",
        "if Sst_mean.all() > 60:\n",
        "  Sst_index = cell_types.index[cell_types['Marker'] == 'Sst']\n",
        "  Sst_values = cell_types.loc[Sst_index]\n",
        "  Sst_values.hist(color = \"green\")\n",
        "elif Sst_mean.all() < 60:\n",
        "  Sst_index = cell_types.index[cell_types['Marker'] == 'Sst']\n",
        "  Sst_values = cell_types.loc[Sst_index]\n",
        "  Sst_values.hist(color = \"red\")\n",
        "else:\n",
        "  print('hi')"
      ],
      "metadata": {
        "id": "ROEoCH-fd7tw",
        "outputId": "d9ad0091-3a9b-40e3-b63d-4da17f5ed610",
        "colab": {
          "base_uri": "https://localhost:8080/",
          "height": 281
        }
      },
      "execution_count": 56,
      "outputs": [
        {
          "output_type": "display_data",
          "data": {
            "text/plain": [
              "<Figure size 432x288 with 1 Axes>"
            ],
            "image/png": "[encoded data removed]"
          },
          "metadata": {
            "needs_background": "light"
          }
        }
      ]
    },
    {
      "cell_type": "markdown",
      "source": [
        "><b>Task:</b> Create a conditional statement that makes a *green* histogram of ISI values for *Sst*-containing neurons if the standard deviation of the *Sst*-containing distribution is greater than 30, and a *red* histogram if the standard deviation of the distribution is less than 30 (*Hint*: the function is `df.std()`)."
      ],
      "metadata": {
        "id": "t8w3654RfNrV"
      }
    },
    {
      "cell_type": "code",
      "source": [
        "# Your code here\n",
        "means = cell_types.groupby('Marker').std()\n",
        "Sst_std = means.loc['Sst']\n",
        "print(Sst_std)\n"
      ],
      "metadata": {
        "id": "SRg6zAeAgETK",
        "outputId": "69c98b09-012e-4651-e1b1-77ff9d42a7b7",
        "colab": {
          "base_uri": "https://localhost:8080/"
        }
      },
      "execution_count": 61,
      "outputs": [
        {
          "output_type": "stream",
          "name": "stdout",
          "text": [
            "ISI    32.167173\n",
            "Name: Sst, dtype: float64\n"
          ]
        }
      ]
    }
  ]
}