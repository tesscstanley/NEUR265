{
  "nbformat": 4,
  "nbformat_minor": 0,
  "metadata": {
    "colab": {
      "provenance": [],
      "include_colab_link": true
    },
    "kernelspec": {
      "name": "python3",
      "display_name": "Python 3"
    },
    "language_info": {
      "name": "python"
    }
  },
  "cells": [
    {
      "cell_type": "markdown",
      "metadata": {
        "id": "view-in-github",
        "colab_type": "text"
      },
      "source": [
        "<a href=\"https://colab.research.google.com/github/tesscstanley/NEUR265/blob/main/coding_homework_1.ipynb\" target=\"_parent\"><img src=\"https://colab.research.google.com/assets/colab-badge.svg\" alt=\"Open In Colab\"/></a>"
      ]
    },
    {
      "cell_type": "markdown",
      "source": [
        "# Coding Homework #1\n",
        "\n",
        "**Instructions** (Note: it is very important you follow these instructions in order!)\n",
        "\n",
        "1. Run the first *Code Cell* below.\n",
        "\n",
        "2. Make a *Markdown Cell* that contains the following information:\n",
        "  * Your name (small header)\n",
        "  * The name of this class (italicized)\n",
        "  * The date (bolded)\n",
        "\n",
        "3. **Important!**: For each *Code Cell* that you create, make at least one line of code with a `#` in front of it that describes what your code does.\n",
        "\n",
        "4. Make a *Code Cell* that turns `v_rest1.csv` into a `Pandas DataFrame` called `pandas_data1`, and `v_rest2.csv` into a `Pandas DataFrame` called `pandas_data2`. Recall that we covered how to import `.csv` files as `Pandas DataFrames` in our in-class coding activity on January 30th. \n",
        "\n",
        "5. Make a *Code Cell* that converts `pandas_data1` into a `list` variable called `data1`, and converts `pandas_data2` into a `list` variable called `data2`. The following syntax is an example of how to do this:\n",
        "\n",
        "\n",
        "```\n",
        "data1 = pandas_data1.values.tolist()\n",
        "```\n",
        "\n",
        "6. When you convert a `Pandas DataFrame` into a `list`, it brackets each individual element - we don't want that! To get around this issue, make a *Code Cell* that flattens `data1` and `data2` using the `numpy.squeeze()` function. Your first *Code Cell* imported the `NumPy` module as `np`, so we can use the following code to flatten `data1`:\n",
        "\n",
        "\n",
        "```\n",
        "data1 = np.squeeze(data1)\n",
        "```\n",
        "&nbsp;&nbsp;&nbsp;&nbsp;&nbsp;&nbsp;&nbsp;&nbsp;&nbsp;&nbsp;Repeat this for `data2`.\n",
        "\n",
        "7. Make a *Code Cell* that prints the length of `data1`.\n",
        "\n",
        "8. Make a *Code Cell* that prints the 5th, 6th, 7th, and 8th elements of `data2`.\n",
        "\n",
        "9. Make a *Code Cell* that prints the second-to-last and last elements of `data1` (use negative indexing).\n",
        "\n",
        "10. Make a *Code Cell* that prints the `type` of `data2` by using the `type` function.\n",
        "\n",
        "11. The first *Code Cell* you ran imports a module called `matplotlib`. In a new *Code Cell*, use `matplotlib` to make a histogram of `data1`. You can use the syntax `plt.hist()` to do this (remember that the variable you are applying the function to goes inside of the parentheses). \n",
        "\n",
        "12. In a new *Code Cell*, re-make your histogram and use the `plt.xlabel()` and `plt.ylabel()` functions to label your axes.\n",
        "\n",
        "13. In a new *Code Cell*, follow the instructions in steps 11 and 12 to make another histogram with axis labels for `data2`. \n",
        "\n",
        "14. In a new *Markdown Cell*, write a brief description of any differences that you observe between your two histograms. Does one group of cells seem to have a higher/lower resting membrane potential than the other group of cells?\n",
        "\n",
        "15. In a new *Code Cell*, create a new variable called `data3`. Let `data3` be a list containing both `data1` and `data2`. \n",
        "\n",
        "16. Make a *Code Cell* that prints the last element of `data2`. You must index `data3` to do this (hint: we covered this in our in-class coding activity on February 1st).\n",
        "\n",
        "17. Save a copy of this notebook to your GitHub repo with the title \"coding_homework_1.pynb\". "
      ],
      "metadata": {
        "id": "R8xCV2iP1KZ_"
      }
    },
    {
      "cell_type": "code",
      "source": [
        "# Import matplotlib, pandas, and numpy\n",
        "\n",
        "from matplotlib import pyplot as plt\n",
        "\n",
        "import pandas as pd\n",
        "\n",
        "import numpy as np"
      ],
      "metadata": {
        "id": "48IPWJIt59-Y"
      },
      "execution_count": 1,
      "outputs": []
    },
    {
      "cell_type": "markdown",
      "source": [
        "### Tess Stanley\n",
        "*NEUR 265: Intro to Neural Data Analysis*\n",
        "\n",
        "**02/06/2023**"
      ],
      "metadata": {
        "id": "TmomtKLS5B73"
      }
    },
    {
      "cell_type": "code",
      "source": [
        "# Step 4: Importing v_read1.csv as a Pandas DataFrame called pandas_data1 and importing v_read2.csv as a Pandas DataFrame as pandas_data2 \n",
        "url1 = 'https://raw.githubusercontent.com/tesscstanley/NEUR265/main/vrest_1.csv'\n",
        "pandas_data1 = pd.read_csv(url1)\n",
        "\n",
        "url2 = 'https://raw.githubusercontent.com/tesscstanley/NEUR265/main/vrest_2.csv'\n",
        "pandas_data2 = pd.read_csv(url2)"
      ],
      "metadata": {
        "id": "EuhWcAOn5x4W"
      },
      "execution_count": 2,
      "outputs": []
    },
    {
      "cell_type": "code",
      "source": [
        "# Step 5: converting pandas_data1 and pandas_data2 to into list variables called data1 and data2, respectively\n",
        "data1 = pandas_data1.values.tolist()\n",
        "data2 = pandas_data2.values.tolist()\n",
        "print(data1)\n",
        "print(data2)"
      ],
      "metadata": {
        "colab": {
          "base_uri": "https://localhost:8080/"
        },
        "id": "fItV8Oymop8p",
        "outputId": "7220cd7a-e6c0-4af6-8eb2-44f0fbd4d731"
      },
      "execution_count": 3,
      "outputs": [
        {
          "output_type": "stream",
          "name": "stdout",
          "text": [
            "[[-67.71814499], [-69.74180222], [-69.1628791], [-72.39508989], [-79.74574137], [-66.21105957], [-68.86378326], [-60.61550522], [-79.67852614], [-66.52597555], [-71.92290878], [-73.81932983]]\n",
            "[[-59.27464052], [-72.08444214], [-58.54072189], [-61.49016571], [-69.284896], [-72.24048424], [-76.88645766], [-63.06315422], [-66.00006158], [-71.89796352], [-67.31049442], [-65.60501709]]\n"
          ]
        }
      ]
    },
    {
      "cell_type": "code",
      "source": [
        "# Step 6: using the numpy.squeeze() function to flatten data1 and data2\n",
        "data1 = np.squeeze(data1)\n",
        "data2 = np.squeeze(data2)\n",
        "print(data1)\n",
        "print(data2)"
      ],
      "metadata": {
        "colab": {
          "base_uri": "https://localhost:8080/"
        },
        "id": "i4imn8bmqGFM",
        "outputId": "694add6f-7fcf-4fb2-f591-18d41631ee8d"
      },
      "execution_count": 4,
      "outputs": [
        {
          "output_type": "stream",
          "name": "stdout",
          "text": [
            "[-67.71814499 -69.74180222 -69.1628791  -72.39508989 -79.74574137\n",
            " -66.21105957 -68.86378326 -60.61550522 -79.67852614 -66.52597555\n",
            " -71.92290878 -73.81932983]\n",
            "[-59.27464052 -72.08444214 -58.54072189 -61.49016571 -69.284896\n",
            " -72.24048424 -76.88645766 -63.06315422 -66.00006158 -71.89796352\n",
            " -67.31049442 -65.60501709]\n"
          ]
        }
      ]
    },
    {
      "cell_type": "code",
      "source": [
        "# Step 7: Printing the length of data1\n",
        "print(data1.size)\n",
        "len(data1)"
      ],
      "metadata": {
        "colab": {
          "base_uri": "https://localhost:8080/"
        },
        "id": "3Q8WYbzPqz3P",
        "outputId": "7b684e69-f6ce-4c22-c756-51e27523ae3c"
      },
      "execution_count": 5,
      "outputs": [
        {
          "output_type": "stream",
          "name": "stdout",
          "text": [
            "12\n"
          ]
        },
        {
          "output_type": "execute_result",
          "data": {
            "text/plain": [
              "12"
            ]
          },
          "metadata": {},
          "execution_count": 5
        }
      ]
    },
    {
      "cell_type": "code",
      "source": [
        "# Step 8: Printing the 5th, 6th, 7th, and 8th elements in data2\n",
        "data2[4:8]"
      ],
      "metadata": {
        "colab": {
          "base_uri": "https://localhost:8080/"
        },
        "id": "mkDT8L3QrnIe",
        "outputId": "9ee0175b-6905-45ba-fc4e-ab08154cf2a5"
      },
      "execution_count": 6,
      "outputs": [
        {
          "output_type": "execute_result",
          "data": {
            "text/plain": [
              "array([-69.284896  , -72.24048424, -76.88645766, -63.06315422])"
            ]
          },
          "metadata": {},
          "execution_count": 6
        }
      ]
    },
    {
      "cell_type": "code",
      "source": [
        "# Step 9: Printing the second to last and last elements of data1\n",
        "data1[-2:]"
      ],
      "metadata": {
        "colab": {
          "base_uri": "https://localhost:8080/"
        },
        "id": "qPA7o0Q1slpo",
        "outputId": "83257ca8-1906-44aa-bb60-4b3e21e22b1e"
      },
      "execution_count": 8,
      "outputs": [
        {
          "output_type": "execute_result",
          "data": {
            "text/plain": [
              "array([-71.92290878, -73.81932983])"
            ]
          },
          "metadata": {},
          "execution_count": 8
        }
      ]
    },
    {
      "cell_type": "code",
      "source": [
        "# Step 10: Printing the type of data2 using the type function\n",
        "type(data2)"
      ],
      "metadata": {
        "colab": {
          "base_uri": "https://localhost:8080/"
        },
        "id": "gF4oYyNMusD5",
        "outputId": "76490886-5735-4afe-a4a8-b8b81b752b32"
      },
      "execution_count": 9,
      "outputs": [
        {
          "output_type": "execute_result",
          "data": {
            "text/plain": [
              "numpy.ndarray"
            ]
          },
          "metadata": {},
          "execution_count": 9
        }
      ]
    },
    {
      "cell_type": "code",
      "source": [
        "# Step 11: Using matplotlib to make a histogram of data1\n",
        "plt.hist(data1)"
      ],
      "metadata": {
        "colab": {
          "base_uri": "https://localhost:8080/",
          "height": 350
        },
        "id": "BPPpT70gv0ky",
        "outputId": "9dc6327e-1ba4-4ef5-ec94-a2afd554cdc6"
      },
      "execution_count": 10,
      "outputs": [
        {
          "output_type": "execute_result",
          "data": {
            "text/plain": [
              "(array([2., 0., 0., 2., 1., 3., 2., 1., 0., 1.]),\n",
              " array([-79.74574137, -77.83271776, -75.91969414, -74.00667053,\n",
              "        -72.09364691, -70.1806233 , -68.26759968, -66.35457607,\n",
              "        -64.44155245, -62.52852884, -60.61550522]),\n",
              " <a list of 10 Patch objects>)"
            ]
          },
          "metadata": {},
          "execution_count": 10
        },
        {
          "output_type": "display_data",
          "data": {
            "text/plain": [
              "<Figure size 432x288 with 1 Axes>"
            ],
            "image/png": "[encoded data removed]"
          },
          "metadata": {
            "needs_background": "light"
          }
        }
      ]
    },
    {
      "cell_type": "code",
      "source": [
        "# Step 12: Remaking the histogram with labeled x-axis and y-axis using the plt.xlabel() and plt.ylabel() functions for data1\n",
        "plt.hist(data1)\n",
        "plt.xlabel('Resting Membrane Potential')\n",
        "plt.ylabel('Frequency')\n"
      ],
      "metadata": {
        "colab": {
          "base_uri": "https://localhost:8080/",
          "height": 296
        },
        "id": "9WiOihMKwJGj",
        "outputId": "3197398e-f7e7-4c7a-f003-7d0d058e3dcb"
      },
      "execution_count": 11,
      "outputs": [
        {
          "output_type": "execute_result",
          "data": {
            "text/plain": [
              "Text(0, 0.5, 'Frequency')"
            ]
          },
          "metadata": {},
          "execution_count": 11
        },
        {
          "output_type": "display_data",
          "data": {
            "text/plain": [
              "<Figure size 432x288 with 1 Axes>"
            ],
            "image/png": "[encoded data removed]"
          },
          "metadata": {
            "needs_background": "light"
          }
        }
      ]
    },
    {
      "cell_type": "code",
      "source": [
        "# Step 13: Using matplotlib to make a histogram of data2 and label the x-axis and y-axis using the plt.xlabel() and plt.ylabel() functions for data1\n",
        "plt.hist(data2)\n",
        "plt.xlabel('Resting Membrane Potential')\n",
        "plt.ylabel('Frequency')"
      ],
      "metadata": {
        "colab": {
          "base_uri": "https://localhost:8080/",
          "height": 296
        },
        "id": "71kgrq6sxi_5",
        "outputId": "03b77257-125e-41fc-e955-4607d74a2505"
      },
      "execution_count": 12,
      "outputs": [
        {
          "output_type": "execute_result",
          "data": {
            "text/plain": [
              "Text(0, 0.5, 'Frequency')"
            ]
          },
          "metadata": {},
          "execution_count": 12
        },
        {
          "output_type": "display_data",
          "data": {
            "text/plain": [
              "<Figure size 432x288 with 1 Axes>"
            ],
            "image/png": "[encoded data removed]"
          },
          "metadata": {
            "needs_background": "light"
          }
        }
      ]
    },
    {
      "cell_type": "markdown",
      "source": [
        "#### Step 14:\n",
        "In comparing the resting membrane potentials between the first group of cells (data1) and the second group of cells (data2), overall, the second group of cells have a more positive resting membrane potential with the majority falling in between -59 mV and -69 mV. The first group of cells has a relatively more negative resting membrane potential with the majority of cells having membrane potentials that fall in between -74 mV and -64 mV. "
      ],
      "metadata": {
        "id": "O_K39ol40LCj"
      }
    },
    {
      "cell_type": "code",
      "source": [
        "# Step 15: Creating variable data3 as the combination of data1 and data2\n",
        "data3 = [data1, data2]\n",
        "print(data3)"
      ],
      "metadata": {
        "colab": {
          "base_uri": "https://localhost:8080/"
        },
        "id": "T0iJBc64HIGC",
        "outputId": "4f1e645a-8de0-4c0d-f81c-a616642ee89d"
      },
      "execution_count": 13,
      "outputs": [
        {
          "output_type": "stream",
          "name": "stdout",
          "text": [
            "[array([-67.71814499, -69.74180222, -69.1628791 , -72.39508989,\n",
            "       -79.74574137, -66.21105957, -68.86378326, -60.61550522,\n",
            "       -79.67852614, -66.52597555, -71.92290878, -73.81932983]), array([-59.27464052, -72.08444214, -58.54072189, -61.49016571,\n",
            "       -69.284896  , -72.24048424, -76.88645766, -63.06315422,\n",
            "       -66.00006158, -71.89796352, -67.31049442, -65.60501709])]\n"
          ]
        }
      ]
    },
    {
      "cell_type": "code",
      "source": [
        "# Step 16: Printing the last digit of data2 by indexing data3\n",
        "data3[1][-1]"
      ],
      "metadata": {
        "colab": {
          "base_uri": "https://localhost:8080/"
        },
        "id": "qP458bVYHccE",
        "outputId": "a335e28c-d8dd-43e1-85eb-778f917897d2"
      },
      "execution_count": 16,
      "outputs": [
        {
          "output_type": "execute_result",
          "data": {
            "text/plain": [
              "-65.60501709"
            ]
          },
          "metadata": {},
          "execution_count": 16
        }
      ]
    }
  ]
}