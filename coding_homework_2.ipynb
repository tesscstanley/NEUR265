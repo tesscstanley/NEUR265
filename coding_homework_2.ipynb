{
  "nbformat": 4,
  "nbformat_minor": 0,
  "metadata": {
    "colab": {
      "provenance": [],
      "include_colab_link": true
    },
    "kernelspec": {
      "name": "python3",
      "display_name": "Python 3"
    },
    "language_info": {
      "name": "python"
    }
  },
  "cells": [
    {
      "cell_type": "markdown",
      "metadata": {
        "id": "view-in-github",
        "colab_type": "text"
      },
      "source": [
        "<a href=\"https://colab.research.google.com/github/tesscstanley/NEUR265/blob/main/coding_homework_2.ipynb\" target=\"_parent\"><img src=\"https://colab.research.google.com/assets/colab-badge.svg\" alt=\"Open In Colab\"/></a>"
      ]
    },
    {
      "cell_type": "markdown",
      "source": [
        "# Coding Homework #2\n",
        "\n",
        "**Instructions:**\n",
        "\n",
        "1. Make a *Markdown Cell* that contains the following information:\n",
        "- Your name (small header)\n",
        "- The name of this class (italicized)\n",
        "- The date (bolded)\n",
        "\n",
        "2. Make a *Code Cell* that imports <code>numpy</code> as <code>np</code>, <code>matplotlib.pyplot</code> as <code>plt</code>, <code>statistics</code> as <code>st</code>.\n",
        "\n",
        "3. Make a *Code Cell* that imports your <code>v_rest1.csv</code> and <code>v_rest2.csv</code> files as <code>numpy</code> arrays called <code>v_rest1</code> and <code>v_rest2</code> respectively. You're used to doing this with the <code>pd.read_csv</code> function for <code>pandas</code>, but can accomplish the same thing using the <code>np.loadtxt</code> function for <code>numpy</code>.\n",
        "\n",
        "4. Make a *Code Cell* that concatenates <code>v_rest1</code> and <code>v_rest2</code> into a matrix with 2 rows and 13 columns named <code>v_rest</code>.\n",
        "\n",
        "5. Make a *Code Cell* that prints the <code>size</code> of <code>v_rest</code>.\n",
        "\n",
        "6. Make a *Code Cell* that returns the first row of <code>v_rest</code>.\n",
        "\n",
        "7. Make a *Code Cell* that returns the sum of the values in the third column of <code>v_rest</code>. You can accomplish this by using <code>v_rest[].sum()</code>, with your index inside of the brackets. As an example, if I wanted to return the sum of the first row of <code>v_rest</code>, I could use <code>v_rest[0].sum()</code> to get my answer.\n",
        "\n",
        "8. Make a *Code Cell* that returns the second-to-last value in the second row of <code>v_rest</code> (use negative indexing for the column value).\n",
        "\n",
        "9. Create a *Code Cell* that makes a histogram of the values in the first row of <code>v_rest</code> (you can do this by using the <code>plt.hist()</code> function). Label your axes.\n",
        "\n",
        "10. Create a *Code Cell* that takes the mean of the values in the first row of <code>v_rest</code>, and assigns the mean to a variable called <code>v_rest_mean_1</code>. Do the same thing for the second row of <code>v_rest</code>, and assign the mean value of the second row to a variable called <code>v_rest_mean_2</code>. You can get the means by using the <code>st.mean()</code> function (remember to put what you want the mean *of* inside the parentheses of the function).\n",
        "\n",
        "11. Create a *Markdown Cell* that describes the difference in means between the two rows. Which one is bigger?\n",
        "\n",
        "12. How can we test whether the difference in means is *meaningful* (statistically significant)? When we're comparing two means, we can use a t-test (assuming the data are normally distributed). To use a t-test on our data, we will first need to import the <code>scipy</code> package. Create a new *Code Cell* that runs the following:\n",
        "\n",
        "<code>\n",
        "import scipy.stats as stats\n",
        "</code>\n",
        "\n",
        "13. Now, we can perform a t-test on the two rows of <code>v_rest</code>. To do this, create a new *Code Cell* that uses the <code>stats.ttest_ind()</code> function - for example:\n",
        "\n",
        "<code>\n",
        "stats.ttest_ind(row1, row2)\n",
        "</code>\n",
        "\n",
        "Replace <code>row1</code> and <code>row2</code> in this case with the first and second rows, respectively, of <code>v_rest</code>.\n",
        "\n",
        "14. Make a *Markdown Cell* that describes the results of your t-test. You should have <code>statistic</code> variable and a <code>pvalue</code> variable. The way to interpret your p-value is as a probability - specifically, the probability that the mean of one distribution could be found in the second distribution. Typically, results are considered to be \"statistically significant\" if the probability is lower than 5% - or 0.05. What is your p-value? Based on this p-value, do you think it is likely that the means are significantly different, or do you think it is likely that they are not?\n",
        "\n",
        "15. Make sure to add at least one line with a <code>#</code> in front of it to each *Code Cell* to describe what each cell does.\n",
        "\n",
        "16. Save a copy of this notebook to your GitHub repo with the title \"coding_homework_2.ipynb\"."
      ],
      "metadata": {
        "id": "CXEcCBSA_prs"
      }
    },
    {
      "cell_type": "markdown",
      "source": [
        "### Tess Stanley\n",
        "*NEUR 265: Intro to Neural Data Analysis*\n",
        "\n",
        "**02/20/2023**"
      ],
      "metadata": {
        "id": "wcHvKGoc-Mvt"
      }
    },
    {
      "cell_type": "code",
      "source": [
        "# Step 2: importing numpy as np, matplotlib.pyplot as plt, statistics as st\n",
        "import numpy as np\n",
        "import matplotlib.pyplot as plt\n",
        "import statistics as st"
      ],
      "metadata": {
        "id": "b10dyMxB-2Z6"
      },
      "execution_count": 1,
      "outputs": []
    },
    {
      "cell_type": "code",
      "source": [
        "# Step 3: Importing v_rest1.csv and v_rest2.csv files as numpy arrays called v_rest1 and v_rest2 \n",
        "url1 = 'https://raw.githubusercontent.com/tesscstanley/NEUR265/main/vrest_1.csv'\n",
        "v_rest1 = np.loadtxt(url1)\n",
        "\n",
        "url2 = 'https://raw.githubusercontent.com/tesscstanley/NEUR265/main/vrest_2.csv'\n",
        "v_rest2 = np.loadtxt(url2)\n"
      ],
      "metadata": {
        "id": "iBLHTZbk_G0s"
      },
      "execution_count": 2,
      "outputs": []
    },
    {
      "cell_type": "code",
      "source": [
        "# Step 4: concatenating v_rest1 and v_rest2 into a matrix with 2 rows and 13 columns named v_rest\n",
        "v_rest = np.array([v_rest1,v_rest2])\n",
        "print(v_rest.shape)\n",
        "print(v_rest)"
      ],
      "metadata": {
        "id": "1BafKQAi_rqT",
        "outputId": "e2bd57de-42d9-495f-c5d1-b8471f3afd40",
        "colab": {
          "base_uri": "https://localhost:8080/"
        }
      },
      "execution_count": 3,
      "outputs": [
        {
          "output_type": "stream",
          "name": "stdout",
          "text": [
            "(2, 13)\n",
            "[[-77.26208361 -67.71814499 -69.74180222 -69.1628791  -72.39508989\n",
            "  -79.74574137 -66.21105957 -68.86378326 -60.61550522 -79.67852614\n",
            "  -66.52597555 -71.92290878 -73.81932983]\n",
            " [-74.97528267 -59.27464052 -72.08444214 -58.54072189 -61.49016571\n",
            "  -69.284896   -72.24048424 -76.88645766 -63.06315422 -66.00006158\n",
            "  -71.89796352 -67.31049442 -65.60501709]]\n"
          ]
        }
      ]
    },
    {
      "cell_type": "code",
      "source": [
        "# Step 5: printing the size of v_rest\n",
        "print(v_rest.size)"
      ],
      "metadata": {
        "id": "Dnv1F6aBAMFa",
        "outputId": "487e6a09-0350-4702-b922-977e03dc6ebf",
        "colab": {
          "base_uri": "https://localhost:8080/"
        }
      },
      "execution_count": 4,
      "outputs": [
        {
          "output_type": "stream",
          "name": "stdout",
          "text": [
            "26\n"
          ]
        }
      ]
    },
    {
      "cell_type": "code",
      "source": [
        "# Step 6: printing the first row of v_rest\n",
        "v_rest[0]"
      ],
      "metadata": {
        "id": "GCwbMxK8AbTl",
        "outputId": "b0a84554-6ff0-47ce-eb21-9368f0b43eb0",
        "colab": {
          "base_uri": "https://localhost:8080/"
        }
      },
      "execution_count": 5,
      "outputs": [
        {
          "output_type": "execute_result",
          "data": {
            "text/plain": [
              "array([-77.26208361, -67.71814499, -69.74180222, -69.1628791 ,\n",
              "       -72.39508989, -79.74574137, -66.21105957, -68.86378326,\n",
              "       -60.61550522, -79.67852614, -66.52597555, -71.92290878,\n",
              "       -73.81932983])"
            ]
          },
          "metadata": {},
          "execution_count": 5
        }
      ]
    },
    {
      "cell_type": "code",
      "source": [
        "# Step 7: printing the sum of the values in the third column of v_rest\n",
        "v_rest[:,2].sum()"
      ],
      "metadata": {
        "id": "cdd67oWrBebR",
        "outputId": "5e9ebd5b-51aa-44a8-9fa5-ca85926bcaf7",
        "colab": {
          "base_uri": "https://localhost:8080/"
        }
      },
      "execution_count": 6,
      "outputs": [
        {
          "output_type": "execute_result",
          "data": {
            "text/plain": [
              "-141.82624435999998"
            ]
          },
          "metadata": {},
          "execution_count": 6
        }
      ]
    },
    {
      "cell_type": "code",
      "source": [
        "# Step 8: returning the second-to-last value in the second row of v_rest\n",
        "v_rest[1,-2]"
      ],
      "metadata": {
        "id": "zOEt0bHYDYW9",
        "outputId": "110783ad-000d-4809-a4ad-3282df758aa6",
        "colab": {
          "base_uri": "https://localhost:8080/"
        }
      },
      "execution_count": 7,
      "outputs": [
        {
          "output_type": "execute_result",
          "data": {
            "text/plain": [
              "-67.31049442"
            ]
          },
          "metadata": {},
          "execution_count": 7
        }
      ]
    },
    {
      "cell_type": "code",
      "source": [
        "# Step 9: making a histogram of the values in the first row of v_rest\n",
        "plt.hist(v_rest[0])\n",
        "plt.xlabel('Resting Membrane Potential')\n",
        "plt.ylabel('Frequency')"
      ],
      "metadata": {
        "id": "HS2-OmGBD76c",
        "outputId": "beca3e12-6865-40bb-9a86-800a40c952ff",
        "colab": {
          "base_uri": "https://localhost:8080/",
          "height": 296
        }
      },
      "execution_count": 8,
      "outputs": [
        {
          "output_type": "execute_result",
          "data": {
            "text/plain": [
              "Text(0, 0.5, 'Frequency')"
            ]
          },
          "metadata": {},
          "execution_count": 8
        },
        {
          "output_type": "display_data",
          "data": {
            "text/plain": [
              "<Figure size 432x288 with 1 Axes>"
            ],
            "image/png": "[encoded data removed]"
          },
          "metadata": {
            "needs_background": "light"
          }
        }
      ]
    },
    {
      "cell_type": "code",
      "source": [
        "# Step 10: getting the mean of the values in the first row of v_rest, labeled v_rest_mean_1 and second row, labeled v_rest_mean_2 \n",
        "v_rest_mean_1 = st.mean(v_rest[0])\n",
        "print(v_rest_mean_1)\n",
        "v_rest_mean_2 = st.mean(v_rest[1])\n",
        "print(v_rest_mean_2)\n"
      ],
      "metadata": {
        "id": "0rqHUS1qEg8J",
        "outputId": "fa679744-372f-4806-b597-df8a409623f0",
        "colab": {
          "base_uri": "https://localhost:8080/"
        }
      },
      "execution_count": 9,
      "outputs": [
        {
          "output_type": "stream",
          "name": "stdout",
          "text": [
            "-71.05098688692308\n",
            "-67.58875243538462\n"
          ]
        }
      ]
    },
    {
      "cell_type": "markdown",
      "source": [
        "### Step 11: describing the difference in means between the two rows\n",
        "In comparing the means between the first and second row, the first row has a mean with a greater magnitude of around -71.051, which is more negative than the mean of the second row, which is -67.589 and thus has a smaller magnitude compared to the first row. "
      ],
      "metadata": {
        "id": "NsT6WAZaGome"
      }
    },
    {
      "cell_type": "code",
      "source": [
        "# Step 12: importing the scipy package to use a t-test on our data\n",
        "import scipy.stats as stats"
      ],
      "metadata": {
        "id": "CgU2CfDTHU5N"
      },
      "execution_count": 10,
      "outputs": []
    },
    {
      "cell_type": "code",
      "source": [
        "# Step 13: conducting a t-test on our two ros of v_rest\n",
        "stats.ttest_ind(v_rest[0],v_rest[1])"
      ],
      "metadata": {
        "id": "6EqMv6IMHfcc",
        "outputId": "06faaa51-c6fd-4fc2-ab1e-e3c0fc8c211a",
        "colab": {
          "base_uri": "https://localhost:8080/"
        }
      },
      "execution_count": 11,
      "outputs": [
        {
          "output_type": "execute_result",
          "data": {
            "text/plain": [
              "Ttest_indResult(statistic=-1.5362752860073836, pvalue=0.1375507671507911)"
            ]
          },
          "metadata": {},
          "execution_count": 11
        }
      ]
    },
    {
      "cell_type": "markdown",
      "source": [
        "### Step 14: describing the results of the t-test\n",
        "The p-value from this t-test can be rounded to 0.137550767 which is higher than 0.05, therefore the results are likely not statistically significant."
      ],
      "metadata": {
        "id": "v_ub0jUrICul"
      }
    }
  ]
}