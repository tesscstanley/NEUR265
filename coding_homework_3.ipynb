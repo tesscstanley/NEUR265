{
  "nbformat": 4,
  "nbformat_minor": 0,
  "metadata": {
    "colab": {
      "provenance": [],
      "include_colab_link": true
    },
    "kernelspec": {
      "name": "python3",
      "display_name": "Python 3"
    },
    "language_info": {
      "name": "python"
    }
  },
  "cells": [
    {
      "cell_type": "markdown",
      "metadata": {
        "id": "view-in-github",
        "colab_type": "text"
      },
      "source": [
        "<a href=\"https://colab.research.google.com/github/tesscstanley/NEUR265/blob/main/coding_homework_3.ipynb\" target=\"_parent\"><img src=\"https://colab.research.google.com/assets/colab-badge.svg\" alt=\"Open In Colab\"/></a>"
      ]
    },
    {
      "cell_type": "markdown",
      "source": [
        "# Coding Homework #3\n",
        "\n",
        "**Instructions**\n",
        "\n",
        "1. Make a *Markdown Cell* that contains the following information:\n",
        "- Your name (small header)\n",
        "- The name of this class (italicized)\n",
        "- The date (bolded)\n",
        "\n",
        "2. Make a *Code Cell* that imports <code>numpy</code> as <code>np</code>, <code>matplotlib.pyplot</code> as <code>plt</code>, and <code>scipy.stats</code> as <code>stats</code>.\n",
        "\n",
        "3. Make a *Code Cell* that imports your <code>v_rest1.csv</code> and <code>v_rest2.csv</code> variables as <code>numpy</code> arrays called <code>v_rest1</code> and <code>v_rest2</code> respectively.\n",
        "\n",
        "4. Make a *Code Cell* that does the following:\n",
        "  \n",
        "  a. Finds the means of <code>v_rest1</code> and <code>v_rest2</code>.\n",
        "  \n",
        "  b. Performs a t-test to test the null hypothesis that the means of <code>v_rest1</code> and <code>v_rest2</code> come from different distributions.\n",
        "\n",
        "  c. Plots a histogram of <code>v_rest1</code> in one subplot, and a histogram of <code>v_rest2</code> in another subplot if the p-value of the t-test is > 0.05. You can make two subplots using the syntax <code>fig, ax = plt.subplots(1,1)</code>.\n",
        "\n",
        "  d. Labels the y-axis and x-axis of your histograms (recall that <code>ax.ylabel</code> and <code>ax.xlabel</code> are the methods that let you accomplish this).\n",
        "\n",
        "5. Make a *Code Cell* that defines a function called <code>vrestHist()</code>. This function should execute the code in step 4 when called. Remember to tell python that you want the function to show your plots when you call it!\n",
        "\n",
        "6. Make a *Code Cell* that calls <code>vrestHist()</code>.\n",
        "\n",
        "7. Make a *Code Cell* that does the following:\n",
        "\n",
        "    a. Loops through each column of <code>v_rest1</code> and <code>v_rest2</code> and makes a scatter plot with <code>v_rest1</code> on the x-axis and <code>v_rest2</code> on the y-axis. \n",
        "\n",
        "    b. Each iteration of your loop should plot a different point on the scatter plot. At the end of your loop, you should have only one scatter plot with number of data points equal to the length of <code>v_rest1</code> and <code>v_rest2</code>.\n",
        "\n",
        "    c. Your loop should plot a <font color = 'red'>red</font> dot if *both* values in <code>v_rest1</code> and <code>v_rest2</code> are greater than -60, a <font color = 'green'>green</font> dot if values in <code>v_rest1</code> are greater than -60, but values in <code>v_rest2</code> are less than -60, and a <font color = 'blue'>blue</font> dot if *both* values in <code>v_rest1</code> and <code>v_rest2</code> are less than -60. \n",
        "\n",
        "    d. Labels your y-axis and your x-axis (this code should be outside of your loop).\n",
        "\n",
        "8. Make a *Code Cell* that defines a function called <code>vrestScatter()</code>. This function should execute the code in step 7 when called. Remember to tell python that you want the function to show your plot when you call it!\n",
        "\n",
        "9. Save a copy of this notebook to your GitHub repo with the title \"coding_homework_3.ipynb\"."
      ],
      "metadata": {
        "id": "zbzMCJlMN3ph"
      }
    },
    {
      "cell_type": "markdown",
      "source": [
        "### Tess Stanley\n",
        "*NEUR 265: Intro to Neural Data Analysis*\n",
        "\n",
        "**03/01/2023**"
      ],
      "metadata": {
        "id": "EsJovUUngVg1"
      }
    },
    {
      "cell_type": "code",
      "source": [
        "# Step 2: importing numpy as np, matplotlib.pyplot as plt, statistics as st\n",
        "import numpy as np\n",
        "import matplotlib.pyplot as plt\n",
        "import statistics as st"
      ],
      "metadata": {
        "id": "Tk9wRKNSgnK8"
      },
      "execution_count": 1,
      "outputs": []
    },
    {
      "cell_type": "code",
      "source": [
        "# Step 3: Importing v_rest1.csv and v_rest2.csv files as numpy arrays called v_rest1 and v_rest2 \n",
        "url1 = 'https://raw.githubusercontent.com/tesscstanley/NEUR265/main/vrest_1.csv'\n",
        "v_rest1 = np.loadtxt(url1)\n",
        "\n",
        "url2 = 'https://raw.githubusercontent.com/tesscstanley/NEUR265/main/vrest_2.csv'\n",
        "v_rest2 = np.loadtxt(url2)\n"
      ],
      "metadata": {
        "id": "jKlcUWIrgoNg"
      },
      "execution_count": 2,
      "outputs": []
    },
    {
      "cell_type": "code",
      "source": [
        "# Step 4:\n",
        "# finding means\n",
        "v_rest_mean_1 = st.mean(v_rest1)\n",
        "print(v_rest_mean_1)\n",
        "v_rest_mean_2 = st.mean(v_rest2)\n",
        "print(v_rest_mean_2)\n",
        "# performing t-test of null hypothesis\n",
        "import scipy.stats as stats\n",
        "stats.ttest_ind(v_rest1,v_rest2)\n",
        "print(stats.ttest_ind(v_rest1,v_rest2))\n",
        "\n",
        "# plotting histogram with labeled y-axis and x-axis\n",
        "fig, ax = plt.subplots(2,1)\n",
        "ax[0].hist(v_rest1)\n",
        "ax[1].hist(v_rest2)\n",
        "ax[1].set_xlabel('Resting Membrane Potential')\n",
        "ax[0].set_ylabel('Frequency')\n",
        "ax[1].set_ylabel('Frequency')"
      ],
      "metadata": {
        "colab": {
          "base_uri": "https://localhost:8080/",
          "height": 347
        },
        "id": "u3WFze3_p8t5",
        "outputId": "ff0f6984-9af5-4d5c-f75f-113c4bc6e084"
      },
      "execution_count": 10,
      "outputs": [
        {
          "output_type": "stream",
          "name": "stdout",
          "text": [
            "-71.05098688692308\n",
            "-67.58875243538462\n",
            "Ttest_indResult(statistic=-1.5362752860073836, pvalue=0.1375507671507911)\n"
          ]
        },
        {
          "output_type": "execute_result",
          "data": {
            "text/plain": [
              "Text(0, 0.5, 'Frequency')"
            ]
          },
          "metadata": {},
          "execution_count": 10
        },
        {
          "output_type": "display_data",
          "data": {
            "text/plain": [
              "<Figure size 432x288 with 2 Axes>"
            ],
            "image/png": "[encoded data removed]"
          },
          "metadata": {
            "needs_background": "light"
          }
        }
      ]
    },
    {
      "cell_type": "code",
      "source": [
        "#Step 5: creating a function called vrestHist() to execute the step 4 code\n",
        "\n",
        "def vrestHist():\n",
        "    # docstring:\n",
        "    \"\"\"\n",
        "    This is a function that will create a histogram plot of v_rest1 and a histogram plot of v_rest2 if the t-test p-value is > 0.05\n",
        "    \"\"\"\n",
        "    # Your code here!\n",
        "    fig, ax = plt.subplots(2,1)\n",
        "    ax[0].hist(v_rest1)\n",
        "    ax[1].hist(v_rest2)\n",
        "    ax[1].set_xlabel('Resting Membrane Potential')\n",
        "    ax[0].set_ylabel('Frequency')\n",
        "    ax[1].set_ylabel('Frequency')"
      ],
      "metadata": {
        "id": "d-W63Z9dDj7k"
      },
      "execution_count": 4,
      "outputs": []
    },
    {
      "cell_type": "code",
      "source": [
        "# Step 6: calling vrestHist()\n",
        "vrestHist()"
      ],
      "metadata": {
        "colab": {
          "base_uri": "https://localhost:8080/",
          "height": 279
        },
        "id": "4hvL5_bFGciB",
        "outputId": "9d3eb60f-3d63-4cb5-a090-a2a37e8d2065"
      },
      "execution_count": 5,
      "outputs": [
        {
          "output_type": "display_data",
          "data": {
            "text/plain": [
              "<Figure size 432x288 with 2 Axes>"
            ],
            "image/png": "[encoded data removed]"
          },
          "metadata": {
            "needs_background": "light"
          }
        }
      ]
    },
    {
      "cell_type": "code",
      "source": [
        "print(v_rest1)\n",
        "print(v_rest2)"
      ],
      "metadata": {
        "colab": {
          "base_uri": "https://localhost:8080/"
        },
        "id": "VGsmjsYAfYzC",
        "outputId": "61b7c443-1568-4e75-f99f-6a2421d6ec66"
      },
      "execution_count": 6,
      "outputs": [
        {
          "output_type": "stream",
          "name": "stdout",
          "text": [
            "[-77.26208361 -67.71814499 -69.74180222 -69.1628791  -72.39508989\n",
            " -79.74574137 -66.21105957 -68.86378326 -60.61550522 -79.67852614\n",
            " -66.52597555 -71.92290878 -73.81932983]\n",
            "[-74.97528267 -59.27464052 -72.08444214 -58.54072189 -61.49016571\n",
            " -69.284896   -72.24048424 -76.88645766 -63.06315422 -66.00006158\n",
            " -71.89796352 -67.31049442 -65.60501709]\n"
          ]
        }
      ]
    },
    {
      "cell_type": "code",
      "source": [
        "# Step 7: looping through each column of v_rest1 and v_rest2 and making a scatter plot of v_rest1 and v_rest2\n",
        "\n",
        "\n",
        "v_rest1_len = len(v_rest1)\n",
        "v_rest2_len = len(v_rest2)\n",
        "\n",
        "for i in range(v_rest1_len):\n",
        "  if v_rest1[i] > -60 and v_rest2[i] > -60:\n",
        "    plt.scatter(v_rest1[i],v_rest2[i],color = \"red\")\n",
        "  elif v_rest1[i] > -60 and v_rest2[i] < -60:\n",
        "    plt.scatter(v_rest1[i],v_rest2[i],color = \"green\")\n",
        "  elif v_rest1[i] < -60 and v_rest2[i] < -60:\n",
        "    plt.scatter(v_rest1[i],v_rest2[i],color = \"blue\")\n",
        "  elif v_rest2[i] > -60:\n",
        "    plt.scatter(v_rest1[i],v_rest2[i],color = \"pink\")\n",
        "\n",
        "plt.xlabel('Resting Membrane Potential of v_rest1')\n",
        "plt.ylabel('Resting Membrane Potential of v_rest2')\n"
      ],
      "metadata": {
        "colab": {
          "base_uri": "https://localhost:8080/",
          "height": 297
        },
        "id": "1dZFRneSKBBF",
        "outputId": "b0211bbd-187b-40c4-c6aa-32dc355331c5"
      },
      "execution_count": 7,
      "outputs": [
        {
          "output_type": "execute_result",
          "data": {
            "text/plain": [
              "Text(0, 0.5, 'Resting Membrane Potential of v_rest2')"
            ]
          },
          "metadata": {},
          "execution_count": 7
        },
        {
          "output_type": "display_data",
          "data": {
            "text/plain": [
              "<Figure size 432x288 with 1 Axes>"
            ],
            "image/png": "[encoded data removed]"
          },
          "metadata": {
            "needs_background": "light"
          }
        }
      ]
    },
    {
      "cell_type": "code",
      "source": [
        "# Step 8: defining vrestScatter() to execute step 7 code:\n",
        "\n",
        "def vrestScatter():\n",
        "    # docstring:\n",
        "    \"\"\"\n",
        "    This is a function that will create a scatter plot of v_rest1 and  v_rest2 following the conditions layed out in step 7\n",
        "    \"\"\"\n",
        "    # Your code here!\n",
        "    v_rest1_len = len(v_rest1)\n",
        "    v_rest2_len = len(v_rest2)\n",
        "\n",
        "    for i in range(v_rest1_len):\n",
        "      if v_rest1[i] > -60 and v_rest2[i] > -60:\n",
        "        plt.scatter(v_rest1[i],v_rest2[i],color = \"red\")\n",
        "      elif v_rest1[i] > -60 and v_rest2[i] < -60:\n",
        "       plt.scatter(v_rest1[i],v_rest2[i],color = \"green\")\n",
        "      elif v_rest1[i] < -60 and v_rest2[i] < -60:\n",
        "        plt.scatter(v_rest1[i],v_rest2[i],color = \"blue\")\n",
        "      elif v_rest2[i] > -60:\n",
        "        plt.scatter(v_rest1[i],v_rest2[i],color = \"pink\")\n",
        "    plt.xlabel('Resting Membrane Potential of v_rest1')\n",
        "    plt.ylabel('Resting Membrane Potential of v_rest2')"
      ],
      "metadata": {
        "id": "qjDosCavTEyS"
      },
      "execution_count": 8,
      "outputs": []
    },
    {
      "cell_type": "code",
      "source": [
        "# Step 9: calling vrestScatter()\n",
        "vrestScatter()"
      ],
      "metadata": {
        "colab": {
          "base_uri": "https://localhost:8080/",
          "height": 280
        },
        "id": "SKzKhgzaMxSM",
        "outputId": "6f339f7d-28c5-413b-826c-4187f3b8a9d8"
      },
      "execution_count": 9,
      "outputs": [
        {
          "output_type": "display_data",
          "data": {
            "text/plain": [
              "<Figure size 432x288 with 1 Axes>"
            ],
            "image/png": "[encoded data removed]"
          },
          "metadata": {
            "needs_background": "light"
          }
        }
      ]
    }
  ]
}